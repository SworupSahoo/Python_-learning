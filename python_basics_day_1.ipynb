{
  "nbformat": 4,
  "nbformat_minor": 0,
  "metadata": {
    "colab": {
      "name": "python basics day 1.ipynb",
      "provenance": [],
      "collapsed_sections": []
    },
    "kernelspec": {
      "name": "python3",
      "display_name": "Python 3"
    },
    "language_info": {
      "name": "python"
    }
  },
  "cells": [
    {
      "cell_type": "markdown",
      "metadata": {
        "id": "4PVA3Z7pVvdT"
      },
      "source": [
        "# Python basics code"
      ]
    },
    {
      "cell_type": "code",
      "metadata": {
        "colab": {
          "base_uri": "https://localhost:8080/",
          "height": 0
        },
        "id": "vwHWngSmo0Na",
        "outputId": "8122122c-41c0-4999-e09a-257899f6b92f"
      },
      "source": [
        "#how to check python version\n",
        "!python3 --version"
      ],
      "execution_count": 3,
      "outputs": [
        {
          "output_type": "stream",
          "text": [
            "Python 3.7.10\n"
          ],
          "name": "stdout"
        }
      ]
    },
    {
      "cell_type": "code",
      "metadata": {
        "colab": {
          "base_uri": "https://localhost:8080/",
          "height": 0
        },
        "id": "PUDlGyyPqI7K",
        "outputId": "2723adc6-39e1-4104-baf8-67ae45d58370"
      },
      "source": [
        "#how to install library in python\n",
        "#pip = python package installer \n",
        "!pip install pandas "
      ],
      "execution_count": 4,
      "outputs": [
        {
          "output_type": "stream",
          "text": [
            "Requirement already satisfied: pandas in /usr/local/lib/python3.7/dist-packages (1.1.5)\n",
            "Requirement already satisfied: pytz>=2017.2 in /usr/local/lib/python3.7/dist-packages (from pandas) (2018.9)\n",
            "Requirement already satisfied: numpy>=1.15.4 in /usr/local/lib/python3.7/dist-packages (from pandas) (1.19.5)\n",
            "Requirement already satisfied: python-dateutil>=2.7.3 in /usr/local/lib/python3.7/dist-packages (from pandas) (2.8.1)\n",
            "Requirement already satisfied: six>=1.5 in /usr/local/lib/python3.7/dist-packages (from python-dateutil>=2.7.3->pandas) (1.15.0)\n"
          ],
          "name": "stdout"
        }
      ]
    },
    {
      "cell_type": "code",
      "metadata": {
        "colab": {
          "base_uri": "https://localhost:8080/"
        },
        "id": "MSo5wCh6qzYX",
        "outputId": "44adcd84-42f1-4696-bb37-ad995aa87799"
      },
      "source": [
        "#datatypes\n",
        "#int - 3 / Variants - 32 , 64\n",
        "#float - 1.3 / Variants - 32 , 64\n",
        "#boolean - True(1) or False(0) \n",
        "#str - hello world(all characters), hello alpha123(character + numeric = alpha numeric)\n",
        "\n",
        "#arguments\n",
        "#y = m(arg1)x(arg2) + c(arg3) / required args are 3\n",
        "\n",
        "\n",
        "#how to check datatype with print formatting\n",
        "print(\"type is \",type(3))\n",
        "print(\"type is {} \".format(type(3)))\n",
        "print(\"type is {} \".format(type(372.4))) \n",
        "print(\"type is {} \".format(type(True))) # True is a python keyword \n",
        "print(\"type is {} \".format(type(\"charasal\")))\n",
        "print(\"type is {} \".format(type(\"night37\")))\n",
        "print(\"type is {} \".format(\"sexybitch\".isalpha()))\n",
        "print(\"type is {} \".format(\"23\".isnumeric()))\n",
        "print(\"type is {} \".format(isinstance(\"night32\",int))) #to get true or false on instance type\n",
        "print(\"type is {} \".format(\"night32\".isalnum()))\n",
        "#print(\"type is {1} & {0}\".format(\"srikant\",\"sworup\"))"
      ],
      "execution_count": 39,
      "outputs": [
        {
          "output_type": "stream",
          "text": [
            "type is  <class 'int'>\n",
            "type is <class 'int'> \n",
            "type is <class 'float'> \n",
            "type is <class 'bool'> \n",
            "type is <class 'str'> \n",
            "type is <class 'str'> \n",
            "type is True \n",
            "type is True \n",
            "type is False \n",
            "type is True \n"
          ],
          "name": "stdout"
        }
      ]
    },
    {
      "cell_type": "code",
      "metadata": {
        "id": "xA7uYPVL0mud"
      },
      "source": [
        "#declarations\n",
        "a = 1\n",
        "b = 2\n",
        "#python is dynamic we do not need to declare variable type before assignment "
      ],
      "execution_count": 45,
      "outputs": []
    },
    {
      "cell_type": "code",
      "metadata": {
        "colab": {
          "base_uri": "https://localhost:8080/"
        },
        "id": "EBDsi-aU0-0h",
        "outputId": "8c8e17d2-43a0-46e4-cad6-470fc2af4168"
      },
      "source": [
        "print(a)\n",
        "print(b)"
      ],
      "execution_count": 49,
      "outputs": [
        {
          "output_type": "stream",
          "text": [
            "1\n",
            "2\n"
          ],
          "name": "stdout"
        }
      ]
    },
    {
      "cell_type": "code",
      "metadata": {
        "id": "fRA9CBKbsRB1"
      },
      "source": [
        "#conditional statements\n",
        "#1 if  : if it rains it is a rainy day\n",
        "#2 if else : if it is raining it is a rainy day else it is a sunny day\n",
        "#3 if elif....elif else : if a type is integer then it is int elif if the type is float its decimal if elif type is str it is a string   else its dontknow \n",
        "#6 switch\n",
        "\n",
        "#loops\n",
        "#4 while :while i have money i can spend \n",
        "#5 for : for i have money i will spend\n",
        "\n",
        "\n"
      ],
      "execution_count": 50,
      "outputs": []
    },
    {
      "cell_type": "code",
      "metadata": {
        "colab": {
          "base_uri": "https://localhost:8080/"
        },
        "id": "RvB5j7UOvl4O",
        "outputId": "03e548cd-2b9c-4621-a0ba-d8e7ca048d75"
      },
      "source": [
        "#problem statement\n",
        "#declare a variable that takes input integer or float and prints sunny when the type is integer and rainy when the type is float\n",
        "\n",
        "#indentation is mandatory in python \n",
        "a = \"srikant1\"\n",
        "if str(a).isnumeric() == True: \n",
        "  if type(a) == int:  #== is not assingment but checking the exact condition \n",
        "    print(\"rainy\")\n",
        "  else :\n",
        "    print(\"sunny\")\n",
        "else :\n",
        "  if a.isalpha() == True:\n",
        "    print(\"windy\")\n",
        "  else :\n",
        "    print(\"spring\")  \n",
        "\n",
        "#lets check whether it is alpha numeric (windy) or string (spring)\n",
        "\n"
      ],
      "execution_count": 62,
      "outputs": [
        {
          "output_type": "stream",
          "text": [
            "spring\n"
          ],
          "name": "stdout"
        }
      ]
    },
    {
      "cell_type": "code",
      "metadata": {
        "id": "jDf-CRXa2lcS"
      },
      "source": [
        "#functions definations\n",
        "def typeCheck(a):\n",
        "  if str(a).isnumeric() == True: \n",
        "    if type(a) == int:  #== is not assingment but checking the exact condition \n",
        "      print(\"rainy\")\n",
        "    else :\n",
        "      print(\"sunny\")\n",
        "  else :\n",
        "    if a.isalpha() == False:\n",
        "      print(\"windy\")\n",
        "    else :\n",
        "      print(\"spring\") "
      ],
      "execution_count": 65,
      "outputs": []
    },
    {
      "cell_type": "code",
      "metadata": {
        "colab": {
          "base_uri": "https://localhost:8080/",
          "height": 35
        },
        "id": "jfY5sCW87PQ9",
        "outputId": "b0608c12-b4d7-4ef4-f912-789705cc5eb5"
      },
      "source": [
        "output = typeCheck(\"sworup\") # number of print statements in a code increases the execution time\n",
        "output\n"
      ],
      "execution_count": 70,
      "outputs": [
        {
          "output_type": "execute_result",
          "data": {
            "application/vnd.google.colaboratory.intrinsic+json": {
              "type": "string"
            },
            "text/plain": [
              "'spring'"
            ]
          },
          "metadata": {
            "tags": []
          },
          "execution_count": 70
        }
      ]
    },
    {
      "cell_type": "code",
      "metadata": {
        "id": "dIwXuCdG7X_K"
      },
      "source": [
        "def typeCheck(a):\n",
        "  if str(a).isnumeric() == True: \n",
        "    if type(a) == int:  #== is not assingment but checking the exact condition \n",
        "      return \"rainy\"\n",
        "    else :\n",
        "      return \"sunny\"\n",
        "  else :\n",
        "    if a.isalpha() == False:\n",
        "      return \"windy\"\n",
        "    else :\n",
        "      return \"spring\""
      ],
      "execution_count": 69,
      "outputs": []
    },
    {
      "cell_type": "code",
      "metadata": {
        "id": "A_pNFTGt8xDj"
      },
      "source": [
        "#take 2 numeric values create a calculater function and return all the manupulations like +,-,*,/\n",
        "def calculatorFunc(num1,num2,choice):\n",
        "  #sum\n",
        "  if choice == 'sum' :\n",
        "    result = num1 + num2\n",
        "  #diff\n",
        "  elif choice == 'diff' :\n",
        "    result = abs(num1 - num2)\n",
        "  #mul\n",
        "  elif choice == 'mul' :\n",
        "    result = num1 * num2\n",
        "  #div\n",
        "  else:\n",
        "    result = round(num1 / num2,2)\n",
        "  return result"
      ],
      "execution_count": 87,
      "outputs": []
    },
    {
      "cell_type": "code",
      "metadata": {
        "colab": {
          "base_uri": "https://localhost:8080/"
        },
        "id": "ILdeUVc9-Q5V",
        "outputId": "125aaac2-3dcb-4c27-af77-8097aaa582ad"
      },
      "source": [
        "calculatorFunc(2,3,'sum')  "
      ],
      "execution_count": 88,
      "outputs": [
        {
          "output_type": "execute_result",
          "data": {
            "text/plain": [
              "5"
            ]
          },
          "metadata": {
            "tags": []
          },
          "execution_count": 88
        }
      ]
    },
    {
      "cell_type": "code",
      "metadata": {
        "colab": {
          "base_uri": "https://localhost:8080/"
        },
        "id": "_H-pFqgz-6Gr",
        "outputId": "6e86f1d7-cd7b-4329-934b-53d5ebb0a6a3"
      },
      "source": [
        "#string manipulations\n",
        "#string split sworup --> s w o r u p \n",
        "#string split with separator sworup.sahoo --> sworup sahoo\n",
        "\n",
        "name = \"sworupsahoo is dancing\"\n",
        "name.split(\"a\")"
      ],
      "execution_count": 94,
      "outputs": [
        {
          "output_type": "execute_result",
          "data": {
            "text/plain": [
              "['sworups', 'hoo is d', 'ncing']"
            ]
          },
          "metadata": {
            "tags": []
          },
          "execution_count": 94
        }
      ]
    },
    {
      "cell_type": "code",
      "metadata": {
        "colab": {
          "base_uri": "https://localhost:8080/",
          "height": 35
        },
        "id": "xsNxGgNrCeqz",
        "outputId": "2a5c2507-88a6-442a-ed22-fc308d92b8bd"
      },
      "source": [
        "#concatination operation\n",
        "fname = \"Sworup\"\n",
        "lname = \"Sahoo\"\n",
        "fname + \" \" + lname\n"
      ],
      "execution_count": 97,
      "outputs": [
        {
          "output_type": "execute_result",
          "data": {
            "application/vnd.google.colaboratory.intrinsic+json": {
              "type": "string"
            },
            "text/plain": [
              "'Sworup Sahoo'"
            ]
          },
          "metadata": {
            "tags": []
          },
          "execution_count": 97
        }
      ]
    },
    {
      "cell_type": "code",
      "metadata": {
        "id": "Wae4VADfDY45"
      },
      "source": [
        "#data structure = list \n",
        "#ways to define list\n",
        "a = list()\n",
        "b = [1,2,3]\n",
        "\n",
        "\n",
        "#list is mutable \n",
        "#list can contain duplicate entries\n",
        "#list can also contain all types of data types"
      ],
      "execution_count": 120,
      "outputs": []
    },
    {
      "cell_type": "code",
      "metadata": {
        "colab": {
          "base_uri": "https://localhost:8080/"
        },
        "id": "yIG_eimoDvxg",
        "outputId": "a617f40b-1282-441a-aff4-5955058f8e20"
      },
      "source": [
        "type(b)"
      ],
      "execution_count": 121,
      "outputs": [
        {
          "output_type": "execute_result",
          "data": {
            "text/plain": [
              "list"
            ]
          },
          "metadata": {
            "tags": []
          },
          "execution_count": 121
        }
      ]
    },
    {
      "cell_type": "code",
      "metadata": {
        "id": "l1ujouDgDw8o"
      },
      "source": [
        "b.append(4) # element \n"
      ],
      "execution_count": 126,
      "outputs": []
    },
    {
      "cell_type": "code",
      "metadata": {
        "colab": {
          "base_uri": "https://localhost:8080/"
        },
        "id": "9lSPIngKEYsc",
        "outputId": "3beed1a0-969c-40a7-c51b-eb3faa30075d"
      },
      "source": [
        "b\n"
      ],
      "execution_count": 127,
      "outputs": [
        {
          "output_type": "execute_result",
          "data": {
            "text/plain": [
              "[1, 2, 4, 4]"
            ]
          },
          "metadata": {
            "tags": []
          },
          "execution_count": 127
        }
      ]
    },
    {
      "cell_type": "code",
      "metadata": {
        "colab": {
          "base_uri": "https://localhost:8080/"
        },
        "id": "nCq9qtc6Eam6",
        "outputId": "692ebae8-8d18-40c3-eb69-8bd2b5e17ba7"
      },
      "source": [
        "b.pop(2) #index"
      ],
      "execution_count": 124,
      "outputs": [
        {
          "output_type": "execute_result",
          "data": {
            "text/plain": [
              "3"
            ]
          },
          "metadata": {
            "tags": []
          },
          "execution_count": 124
        }
      ]
    },
    {
      "cell_type": "code",
      "metadata": {
        "colab": {
          "base_uri": "https://localhost:8080/"
        },
        "id": "c0zOXptlEeBH",
        "outputId": "4fe1d311-9a42-4a05-ba60-40569bf199af"
      },
      "source": [
        "b"
      ],
      "execution_count": 125,
      "outputs": [
        {
          "output_type": "execute_result",
          "data": {
            "text/plain": [
              "[1, 2, 4]"
            ]
          },
          "metadata": {
            "tags": []
          },
          "execution_count": 125
        }
      ]
    },
    {
      "cell_type": "code",
      "metadata": {
        "colab": {
          "base_uri": "https://localhost:8080/"
        },
        "id": "M8Eet1KsEfl5",
        "outputId": "3788851c-30a2-4fd0-eeab-abdbcd0ff26f"
      },
      "source": [
        "#set is another data structure \n",
        "#set can contain multiple data type \n",
        "#set only contains unique entities \n",
        "#set defination\n",
        "a = set(b)\n",
        "a\n"
      ],
      "execution_count": 128,
      "outputs": [
        {
          "output_type": "execute_result",
          "data": {
            "text/plain": [
              "{1, 2, 4}"
            ]
          },
          "metadata": {
            "tags": []
          },
          "execution_count": 128
        }
      ]
    },
    {
      "cell_type": "code",
      "metadata": {
        "colab": {
          "base_uri": "https://localhost:8080/"
        },
        "id": "uWyFYx0CHLEP",
        "outputId": "2e0bed36-826e-4c94-b2f7-2a47b98dc1c4"
      },
      "source": [
        "type(a)"
      ],
      "execution_count": 116,
      "outputs": [
        {
          "output_type": "execute_result",
          "data": {
            "text/plain": [
              "set"
            ]
          },
          "metadata": {
            "tags": []
          },
          "execution_count": 116
        }
      ]
    },
    {
      "cell_type": "code",
      "metadata": {
        "colab": {
          "base_uri": "https://localhost:8080/",
          "height": 180
        },
        "id": "oFNNAXv-HPqW",
        "outputId": "efd41ea0-c7ac-466a-d14d-31fd25112640"
      },
      "source": [
        "a.append(4)\n",
        "a"
      ],
      "execution_count": 117,
      "outputs": [
        {
          "output_type": "error",
          "ename": "AttributeError",
          "evalue": "ignored",
          "traceback": [
            "\u001b[0;31m---------------------------------------------------------------------------\u001b[0m",
            "\u001b[0;31mAttributeError\u001b[0m                            Traceback (most recent call last)",
            "\u001b[0;32m<ipython-input-117-496b1bb799ff>\u001b[0m in \u001b[0;36m<module>\u001b[0;34m()\u001b[0m\n\u001b[0;32m----> 1\u001b[0;31m \u001b[0ma\u001b[0m\u001b[0;34m.\u001b[0m\u001b[0mappend\u001b[0m\u001b[0;34m(\u001b[0m\u001b[0;36m4\u001b[0m\u001b[0;34m)\u001b[0m\u001b[0;34m\u001b[0m\u001b[0;34m\u001b[0m\u001b[0m\n\u001b[0m\u001b[1;32m      2\u001b[0m \u001b[0ma\u001b[0m\u001b[0;34m\u001b[0m\u001b[0;34m\u001b[0m\u001b[0m\n",
            "\u001b[0;31mAttributeError\u001b[0m: 'set' object has no attribute 'append'"
          ]
        }
      ]
    },
    {
      "cell_type": "code",
      "metadata": {
        "colab": {
          "base_uri": "https://localhost:8080/"
        },
        "id": "FCkSNaVJHWz9",
        "outputId": "637a988f-b18c-414f-8a03-9f183e7c86f6"
      },
      "source": [
        "a.remove(2)\n",
        "a"
      ],
      "execution_count": 131,
      "outputs": [
        {
          "output_type": "execute_result",
          "data": {
            "text/plain": [
              "{1, 4}"
            ]
          },
          "metadata": {
            "tags": []
          },
          "execution_count": 131
        }
      ]
    },
    {
      "cell_type": "code",
      "metadata": {
        "colab": {
          "base_uri": "https://localhost:8080/"
        },
        "id": "p1DjpI8hICD_",
        "outputId": "f3f2d9ef-657e-4e8a-e873-6859eda1a997"
      },
      "source": [
        "animalList = [\"zebra\",'mouse',\"tiger\",\"cat\"]\n",
        "animalList "
      ],
      "execution_count": 134,
      "outputs": [
        {
          "output_type": "execute_result",
          "data": {
            "text/plain": [
              "['zebra', 'mouse', 'tiger', 'cat']"
            ]
          },
          "metadata": {
            "tags": []
          },
          "execution_count": 134
        }
      ]
    },
    {
      "cell_type": "code",
      "metadata": {
        "colab": {
          "base_uri": "https://localhost:8080/"
        },
        "id": "0gcbyzQFIiG6",
        "outputId": "1c48f2b6-a170-4959-ffba-1695ae522154"
      },
      "source": [
        "#for loop\n",
        "for x in animalList :\n",
        "  print(x)"
      ],
      "execution_count": 139,
      "outputs": [
        {
          "output_type": "stream",
          "text": [
            "zebra\n",
            "mouse\n",
            "tiger\n",
            "cat\n"
          ],
          "name": "stdout"
        }
      ]
    },
    {
      "cell_type": "code",
      "metadata": {
        "colab": {
          "base_uri": "https://localhost:8080/",
          "height": 35
        },
        "id": "r5PYqyV9I2lv",
        "outputId": "89e31a41-2976-441c-8ea6-6e3353950780"
      },
      "source": [
        "#check whether the starting of a string is vowel or not\n",
        "myvowelList = [\"a\",\"e\",\"i\",\"o\",\"u\"]\n",
        "name = \"SWORUP\"\n",
        "#name[0:3] #slicing operation \n",
        "#name[3] # obj[row:col]\n",
        "name[0:2]"
      ],
      "execution_count": 174,
      "outputs": [
        {
          "output_type": "execute_result",
          "data": {
            "application/vnd.google.colaboratory.intrinsic+json": {
              "type": "string"
            },
            "text/plain": [
              "'SW'"
            ]
          },
          "metadata": {
            "tags": []
          },
          "execution_count": 174
        }
      ]
    },
    {
      "cell_type": "code",
      "metadata": {
        "colab": {
          "base_uri": "https://localhost:8080/"
        },
        "id": "gFpWpMtEJzd3",
        "outputId": "0d0158b7-79ef-444e-f3eb-001cd3dbdb5b"
      },
      "source": [
        "#how to check if an element is in a list \n",
        "if \"a\" in vowelList:\n",
        "  print(True)\n"
      ],
      "execution_count": 171,
      "outputs": [
        {
          "output_type": "stream",
          "text": [
            "True\n"
          ],
          "name": "stdout"
        }
      ]
    },
    {
      "cell_type": "code",
      "metadata": {
        "id": "WJpkVyOYOBrt"
      },
      "source": [
        "#write a function to take a name and tell if the starting and the ending letter are vowel or not \n",
        "#input arg = name \n",
        "#output return fname when 1st letter is vowel\n",
        "#output return lname when last letter is vowel\n",
        "#return both output when lname and fname are both vowel\n",
        "#return no vowel when both fname and lname are not vowel\n",
        "def nameVowel(name,vowelList): \n",
        " name = name.lower() \n",
        " f_letter = name[0]\n",
        " l_letter = name[-1] \n",
        " if ((f_letter not in vowelList) and (l_letter not in vowelList)):\n",
        "   result = \"no vowel\"\n",
        " elif ((f_letter not in vowelList ) and (l_letter in vowelList )):\n",
        "   result = \"l_name\"\n",
        " elif ((f_letter in vowelList) and (l_letter not in vowelList )):\n",
        "   result = \"f_name\"\n",
        " else : # ((f_letter in vowelList == True) and (l_letter in vowelList == True )):\n",
        "   result = \"both vowel\"\n",
        " return result \n"
      ],
      "execution_count": 194,
      "outputs": []
    },
    {
      "cell_type": "code",
      "metadata": {
        "colab": {
          "base_uri": "https://localhost:8080/",
          "height": 35
        },
        "id": "VWUIU_0fR8o0",
        "outputId": "2c0bd275-919d-4978-e3fc-990d76dfc132"
      },
      "source": [
        "nameVowel(\"asrikant\",myvowelList)"
      ],
      "execution_count": 198,
      "outputs": [
        {
          "output_type": "execute_result",
          "data": {
            "application/vnd.google.colaboratory.intrinsic+json": {
              "type": "string"
            },
            "text/plain": [
              "'f_name'"
            ]
          },
          "metadata": {
            "tags": []
          },
          "execution_count": 198
        }
      ]
    },
    {
      "cell_type": "code",
      "metadata": {
        "colab": {
          "base_uri": "https://localhost:8080/"
        },
        "id": "dUfuF6qyT6pt",
        "outputId": "67ca25c7-83a2-4a81-becb-ad8d78dabf8d"
      },
      "source": [
        "f_letter in vowelList == True"
      ],
      "execution_count": 191,
      "outputs": [
        {
          "output_type": "execute_result",
          "data": {
            "text/plain": [
              "False"
            ]
          },
          "metadata": {
            "tags": []
          },
          "execution_count": 191
        }
      ]
    },
    {
      "cell_type": "markdown",
      "metadata": {
        "id": "m9Ji8J2iVp2j"
      },
      "source": [
        ""
      ]
    },
    {
      "cell_type": "code",
      "metadata": {
        "colab": {
          "base_uri": "https://localhost:8080/"
        },
        "id": "ZZeS0kN2Sa5T",
        "outputId": "fcf1d139-9228-4480-cfc2-d40e2487b884"
      },
      "source": [
        "name = name.lower() \n",
        "f_letter = name[0]\n",
        "l_letter = name[-1] \n",
        "if (f_letter not in vowelList):#and l_letter in vowelList == False :\n",
        "  print(\"no vowel\")"
      ],
      "execution_count": 193,
      "outputs": [
        {
          "output_type": "stream",
          "text": [
            "no vowel\n"
          ],
          "name": "stdout"
        }
      ]
    },
    {
      "cell_type": "code",
      "metadata": {
        "colab": {
          "base_uri": "https://localhost:8080/",
          "height": 35
        },
        "id": "TBO47rlqTLTq",
        "outputId": "2ab37659-0fae-4d93-95d1-91028060860c"
      },
      "source": [
        "f_letter "
      ],
      "execution_count": 183,
      "outputs": [
        {
          "output_type": "execute_result",
          "data": {
            "application/vnd.google.colaboratory.intrinsic+json": {
              "type": "string"
            },
            "text/plain": [
              "'s'"
            ]
          },
          "metadata": {
            "tags": []
          },
          "execution_count": 183
        }
      ]
    },
    {
      "cell_type": "code",
      "metadata": {
        "colab": {
          "base_uri": "https://localhost:8080/",
          "height": 35
        },
        "id": "dlJnS0BDTVPP",
        "outputId": "10ccfe27-88d4-40ab-d335-51b912512024"
      },
      "source": [
        "l_letter"
      ],
      "execution_count": 184,
      "outputs": [
        {
          "output_type": "execute_result",
          "data": {
            "application/vnd.google.colaboratory.intrinsic+json": {
              "type": "string"
            },
            "text/plain": [
              "'p'"
            ]
          },
          "metadata": {
            "tags": []
          },
          "execution_count": 184
        }
      ]
    },
    {
      "cell_type": "code",
      "metadata": {
        "id": "hFzvyXsETWup"
      },
      "source": [
        ""
      ],
      "execution_count": null,
      "outputs": []
    }
  ]
}